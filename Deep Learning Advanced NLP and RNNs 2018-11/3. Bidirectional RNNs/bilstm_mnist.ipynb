{
 "cells": [
  {
   "cell_type": "code",
   "execution_count": 1,
   "id": "f223a80b",
   "metadata": {},
   "outputs": [
    {
     "name": "stdout",
     "output_type": "stream",
     "text": [
      "Sun Mar 27 23:05:40 2022\n",
      "Init Plugin\n",
      "Init Graph Optimizer\n",
      "Init Kernel\n"
     ]
    }
   ],
   "source": [
    "import time\n",
    "print(time.ctime())\n",
    "nb_start_time = time.time()\n",
    "\n",
    "import os\n",
    "from keras.models import Model\n",
    "from keras.layers import Input, LSTM, GRU, Bidirectional, GlobalMaxPooling1D, Lambda, Concatenate, Dense\n",
    "import keras.backend as K\n",
    "import numpy as np\n",
    "import pandas as pd\n",
    "import matplotlib.pyplot as plt"
   ]
  },
  {
   "cell_type": "code",
   "execution_count": 2,
   "id": "b36f2160",
   "metadata": {},
   "outputs": [],
   "source": [
    "path = \"../../../Codes/Deep Learning Advanced NLP and RNNs 2018-11/3. Bidirectional RNNs/digit-recognizer/\""
   ]
  },
  {
   "cell_type": "code",
   "execution_count": 3,
   "id": "935eadce",
   "metadata": {},
   "outputs": [],
   "source": [
    "def get_mnist(limit=None):\n",
    "    if not os.path.exists(path):\n",
    "        # os.path.exists takes only the relative path\n",
    "        return\n",
    "        print(\"Folder containing images data does not exist\")\n",
    "        if not os.path.exists(path+\"train.csv\"):\n",
    "            print(\"Folder exists but not the data\")\n",
    "            return\n",
    "        \n",
    "    file = open(path+\"train.csv\")\n",
    "        \n",
    "    print(\"reading in and transforming data\")\n",
    "    df = pd.read_csv(path+'train.csv') # There are 42k records with one label and 784 pixels as 0, 1\n",
    "    data = df.values #.values make it a numpy array\n",
    "    np.random.shuffle(data)\n",
    "    X = data[:, 1:].reshape(-1, 28, 28)/255.0 #scale from 0 to 1. Shape now becomes (42000, 28, 28)\n",
    "    Y = data[:, 0]\n",
    "    if limit is not None:\n",
    "        X, Y = X[:limit], Y[:limit]\n",
    "    return X, Y\n"
   ]
  },
  {
   "cell_type": "code",
   "execution_count": 4,
   "id": "17357ce0",
   "metadata": {},
   "outputs": [
    {
     "name": "stdout",
     "output_type": "stream",
     "text": [
      "reading in and transforming data\n"
     ]
    }
   ],
   "source": [
    "X, Y = get_mnist()"
   ]
  },
  {
   "cell_type": "code",
   "execution_count": 5,
   "id": "ffd3945d",
   "metadata": {},
   "outputs": [],
   "source": [
    "# config\n",
    "D = 28\n",
    "M = 15"
   ]
  },
  {
   "cell_type": "code",
   "execution_count": 6,
   "id": "bdb8e062",
   "metadata": {},
   "outputs": [
    {
     "name": "stdout",
     "output_type": "stream",
     "text": [
      "Metal device set to: Apple M1\n"
     ]
    },
    {
     "name": "stderr",
     "output_type": "stream",
     "text": [
      "2022-03-27 23:05:43.726713: I tensorflow/core/common_runtime/pluggable_device/pluggable_device_factory.cc:305] Could not identify NUMA node of platform GPU ID 0, defaulting to 0. Your kernel may not have been built with NUMA support.\n",
      "2022-03-27 23:05:43.726811: I tensorflow/core/common_runtime/pluggable_device/pluggable_device_factory.cc:271] Created TensorFlow device (/job:localhost/replica:0/task:0/device:GPU:0 with 0 MB memory) -> physical PluggableDevice (device: 0, name: METAL, pci bus id: <undefined>)\n"
     ]
    }
   ],
   "source": [
    "input_ = Input(shape=(D, D))\n",
    "\n",
    "rnn1 = Bidirectional(LSTM(M, return_sequences=True)) \n",
    "x1 = rnn1(input_) # output is N x D x 2M\n",
    "x1 = GlobalMaxPooling1D()(x1) # N x 2M\n",
    "\n",
    "#left-right\n",
    "rnn2 = Bidirectional(LSTM(M, return_sequences=True))\n",
    "\n",
    "#customer-layer\n",
    "permutor = Lambda(lambda t: K.permute_dimensions(t, pattern=(0, 2, 1)))\n",
    "\n",
    "x2 = permutor(input_)\n",
    "x2 = rnn2(x2) # output is N x D x 2M\n",
    "x2 = GlobalMaxPooling1D()(x2) # output is N x 2M\n"
   ]
  },
  {
   "cell_type": "code",
   "execution_count": 7,
   "id": "f4054cb8",
   "metadata": {},
   "outputs": [],
   "source": [
    "# put them together\n",
    "concatenator = Concatenate(axis=1)\n",
    "x = concatenator([x1, x2]) # output is N x 4M\n",
    "\n",
    "# final dense layer\n",
    "output = Dense(10, activation='softmax')(x)\n",
    "\n",
    "model = Model(inputs=input_, outputs=output)"
   ]
  },
  {
   "cell_type": "code",
   "execution_count": 8,
   "id": "bfc1b6e0",
   "metadata": {},
   "outputs": [
    {
     "name": "stderr",
     "output_type": "stream",
     "text": [
      "2022-03-27 23:05:44.129330: I tensorflow/compiler/mlir/mlir_graph_optimization_pass.cc:176] None of the MLIR Optimization Passes are enabled (registered 2)\n",
      "2022-03-27 23:05:44.129487: W tensorflow/core/platform/profile_utils/cpu_utils.cc:128] Failed to get CPU frequency: 0 Hz\n",
      "2022-03-27 23:05:48.983638: I tensorflow/core/grappler/optimizers/custom_graph_optimizer_registry.cc:112] Plugin optimizer for device_type GPU is enabled.\n",
      "2022-03-27 23:05:49.042816: I tensorflow/core/grappler/optimizers/custom_graph_optimizer_registry.cc:112] Plugin optimizer for device_type GPU is enabled.\n",
      "2022-03-27 23:05:49.042840: I tensorflow/core/grappler/optimizers/custom_graph_optimizer_registry.cc:112] Plugin optimizer for device_type GPU is enabled.\n",
      "2022-03-27 23:05:49.049725: I tensorflow/core/grappler/optimizers/custom_graph_optimizer_registry.cc:112] Plugin optimizer for device_type GPU is enabled.\n",
      "2022-03-27 23:05:49.049774: I tensorflow/core/grappler/optimizers/custom_graph_optimizer_registry.cc:112] Plugin optimizer for device_type GPU is enabled.\n"
     ]
    },
    {
     "name": "stdout",
     "output_type": "stream",
     "text": [
      "o.shape: (42000, 10)\n"
     ]
    }
   ],
   "source": [
    "# testing\n",
    "o = model.predict(X)\n",
    "print(\"o.shape:\", o.shape)"
   ]
  },
  {
   "cell_type": "code",
   "execution_count": 9,
   "id": "a2eec231",
   "metadata": {},
   "outputs": [],
   "source": [
    "# compile\n",
    "model.compile(\n",
    "  loss='sparse_categorical_crossentropy',\n",
    "  optimizer='adam',\n",
    "  metrics=['accuracy']\n",
    ")"
   ]
  },
  {
   "cell_type": "code",
   "execution_count": 10,
   "id": "cae7ad77",
   "metadata": {},
   "outputs": [
    {
     "name": "stdout",
     "output_type": "stream",
     "text": [
      "Training model...\n",
      "Epoch 1/10\n"
     ]
    },
    {
     "name": "stderr",
     "output_type": "stream",
     "text": [
      "2022-03-27 23:06:17.538290: I tensorflow/core/grappler/optimizers/custom_graph_optimizer_registry.cc:112] Plugin optimizer for device_type GPU is enabled.\n",
      "2022-03-27 23:06:17.726489: I tensorflow/core/grappler/optimizers/custom_graph_optimizer_registry.cc:112] Plugin optimizer for device_type GPU is enabled.\n",
      "2022-03-27 23:06:17.728388: I tensorflow/core/grappler/optimizers/custom_graph_optimizer_registry.cc:112] Plugin optimizer for device_type GPU is enabled.\n",
      "2022-03-27 23:06:17.736139: I tensorflow/core/grappler/optimizers/custom_graph_optimizer_registry.cc:112] Plugin optimizer for device_type GPU is enabled.\n",
      "2022-03-27 23:06:17.737867: I tensorflow/core/grappler/optimizers/custom_graph_optimizer_registry.cc:112] Plugin optimizer for device_type GPU is enabled.\n",
      "2022-03-27 23:06:17.928872: I tensorflow/core/grappler/optimizers/custom_graph_optimizer_registry.cc:112] Plugin optimizer for device_type GPU is enabled.\n",
      "2022-03-27 23:06:17.942310: I tensorflow/core/grappler/optimizers/custom_graph_optimizer_registry.cc:112] Plugin optimizer for device_type GPU is enabled.\n",
      "2022-03-27 23:06:17.943787: I tensorflow/core/grappler/optimizers/custom_graph_optimizer_registry.cc:112] Plugin optimizer for device_type GPU is enabled.\n",
      "2022-03-27 23:06:17.943803: I tensorflow/core/grappler/optimizers/custom_graph_optimizer_registry.cc:112] Plugin optimizer for device_type GPU is enabled.\n"
     ]
    },
    {
     "name": "stdout",
     "output_type": "stream",
     "text": [
      "919/919 [==============================] - ETA: 0s - loss: 1.3380 - accuracy: 0.6205"
     ]
    },
    {
     "name": "stderr",
     "output_type": "stream",
     "text": [
      "2022-03-27 23:06:59.457909: I tensorflow/core/grappler/optimizers/custom_graph_optimizer_registry.cc:112] Plugin optimizer for device_type GPU is enabled.\n",
      "2022-03-27 23:06:59.527417: I tensorflow/core/grappler/optimizers/custom_graph_optimizer_registry.cc:112] Plugin optimizer for device_type GPU is enabled.\n",
      "2022-03-27 23:06:59.529095: I tensorflow/core/grappler/optimizers/custom_graph_optimizer_registry.cc:112] Plugin optimizer for device_type GPU is enabled.\n",
      "2022-03-27 23:06:59.534279: I tensorflow/core/grappler/optimizers/custom_graph_optimizer_registry.cc:112] Plugin optimizer for device_type GPU is enabled.\n",
      "2022-03-27 23:06:59.535913: I tensorflow/core/grappler/optimizers/custom_graph_optimizer_registry.cc:112] Plugin optimizer for device_type GPU is enabled.\n"
     ]
    },
    {
     "name": "stdout",
     "output_type": "stream",
     "text": [
      "919/919 [==============================] - 56s 54ms/step - loss: 1.3374 - accuracy: 0.6207 - val_loss: 0.3192 - val_accuracy: 0.9157\n",
      "Epoch 2/10\n",
      "919/919 [==============================] - 48s 53ms/step - loss: 0.2834 - accuracy: 0.9237 - val_loss: 0.2053 - val_accuracy: 0.9421\n",
      "Epoch 3/10\n",
      "919/919 [==============================] - 49s 53ms/step - loss: 0.1918 - accuracy: 0.9446 - val_loss: 0.1649 - val_accuracy: 0.9504\n",
      "Epoch 4/10\n",
      "919/919 [==============================] - 49s 54ms/step - loss: 0.1490 - accuracy: 0.9569 - val_loss: 0.1402 - val_accuracy: 0.9578\n",
      "Epoch 5/10\n",
      "919/919 [==============================] - 50s 54ms/step - loss: 0.1240 - accuracy: 0.9627 - val_loss: 0.1264 - val_accuracy: 0.9617\n",
      "Epoch 6/10\n",
      "919/919 [==============================] - 49s 53ms/step - loss: 0.1040 - accuracy: 0.9688 - val_loss: 0.1167 - val_accuracy: 0.9641\n",
      "Epoch 7/10\n",
      "919/919 [==============================] - 49s 53ms/step - loss: 0.0935 - accuracy: 0.9733 - val_loss: 0.1045 - val_accuracy: 0.9687\n",
      "Epoch 8/10\n",
      "919/919 [==============================] - 49s 53ms/step - loss: 0.0801 - accuracy: 0.9763 - val_loss: 0.1051 - val_accuracy: 0.9668\n",
      "Epoch 9/10\n",
      "919/919 [==============================] - 49s 53ms/step - loss: 0.0745 - accuracy: 0.9786 - val_loss: 0.0993 - val_accuracy: 0.9688\n",
      "Epoch 10/10\n",
      "919/919 [==============================] - 49s 53ms/step - loss: 0.0668 - accuracy: 0.9809 - val_loss: 0.0954 - val_accuracy: 0.9689\n"
     ]
    }
   ],
   "source": [
    "# train\n",
    "print('Training model...')\n",
    "r = model.fit(X, Y, batch_size=32, epochs=10, validation_split=0.3)"
   ]
  },
  {
   "cell_type": "code",
   "execution_count": 11,
   "id": "bec843d8",
   "metadata": {},
   "outputs": [
    {
     "data": {
      "image/png": "[encoded data removed]",
      "text/plain": [
       "<Figure size 432x288 with 1 Axes>"
      ]
     },
     "metadata": {
      "needs_background": "light"
     },
     "output_type": "display_data"
    }
   ],
   "source": [
    "# plot some data\n",
    "plt.plot(r.history['loss'], label='loss')\n",
    "plt.plot(r.history['val_loss'], label='val_loss')\n",
    "plt.legend()\n",
    "plt.show()"
   ]
  },
  {
   "cell_type": "code",
   "execution_count": 12,
   "id": "9dad164e",
   "metadata": {},
   "outputs": [
    {
     "data": {
      "image/png": "[encoded data removed]",
      "text/plain": [
       "<Figure size 432x288 with 1 Axes>"
      ]
     },
     "metadata": {
      "needs_background": "light"
     },
     "output_type": "display_data"
    }
   ],
   "source": [
    "# accuracies\n",
    "plt.plot(r.history['accuracy'], label='acc')\n",
    "plt.plot(r.history['val_accuracy'], label='val_acc')\n",
    "plt.legend()\n",
    "plt.show()"
   ]
  },
  {
   "cell_type": "code",
   "execution_count": 13,
   "id": "262a94f1",
   "metadata": {},
   "outputs": [
    {
     "name": "stdout",
     "output_type": "stream",
     "text": [
      "8.79 mins\n"
     ]
    }
   ],
   "source": [
    "print(f\"{(time.time()-nb_start_time)/60:.2f} mins\")"
   ]
  },
  {
   "cell_type": "code",
   "execution_count": null,
   "id": "482f1766",
   "metadata": {},
   "outputs": [],
   "source": []
  }
 ],
 "metadata": {
  "kernelspec": {
   "display_name": "Python [conda env:tensorflow] *",
   "language": "python",
   "name": "conda-env-tensorflow-py"
  },
  "language_info": {
   "codemirror_mode": {
    "name": "ipython",
    "version": 3
   },
   "file_extension": ".py",
   "mimetype": "text/x-python",
   "name": "python",
   "nbconvert_exporter": "python",
   "pygments_lexer": "ipython3",
   "version": "3.9.10"
  }
 },
 "nbformat": 4,
 "nbformat_minor": 5
}
