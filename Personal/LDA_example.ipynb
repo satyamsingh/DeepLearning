{
 "cells": [
  {
   "cell_type": "code",
   "execution_count": 1,
   "id": "5a18ae52",
   "metadata": {},
   "outputs": [],
   "source": [
    "#!pip install gensim"
   ]
  },
  {
   "cell_type": "code",
   "execution_count": 2,
   "id": "92350458",
   "metadata": {},
   "outputs": [],
   "source": [
    "from gensim.test.utils import common_texts\n",
    "from gensim.corpora.dictionary import Dictionary"
   ]
  },
  {
   "cell_type": "code",
   "execution_count": 3,
   "id": "b613f3e0",
   "metadata": {},
   "outputs": [
    {
     "data": {
      "text/plain": [
       "[['human', 'interface', 'computer'],\n",
       " ['survey', 'user', 'computer', 'system', 'response', 'time'],\n",
       " ['eps', 'user', 'interface', 'system'],\n",
       " ['system', 'human', 'system', 'eps'],\n",
       " ['user', 'response', 'time'],\n",
       " ['trees'],\n",
       " ['graph', 'trees'],\n",
       " ['graph', 'minors', 'trees'],\n",
       " ['graph', 'minors', 'survey']]"
      ]
     },
     "execution_count": 3,
     "metadata": {},
     "output_type": "execute_result"
    }
   ],
   "source": [
    "common_texts"
   ]
  },
  {
   "cell_type": "code",
   "execution_count": 4,
   "id": "7c17786a",
   "metadata": {},
   "outputs": [
    {
     "name": "stdout",
     "output_type": "stream",
     "text": [
      "Dictionary(12 unique tokens: ['computer', 'human', 'interface', 'response', 'survey']...)\n"
     ]
    }
   ],
   "source": [
    "common_dictionary = Dictionary(common_texts)\n",
    "print(common_dictionary)"
   ]
  },
  {
   "cell_type": "code",
   "execution_count": 5,
   "id": "362022c4",
   "metadata": {},
   "outputs": [],
   "source": [
    "common_corpus = [common_dictionary.doc2bow(text) for text in common_texts]"
   ]
  },
  {
   "cell_type": "code",
   "execution_count": 6,
   "id": "7dcfb135",
   "metadata": {},
   "outputs": [
    {
     "name": "stdout",
     "output_type": "stream",
     "text": [
      "[[(0, 1), (1, 1), (2, 1)], [(0, 1), (3, 1), (4, 1), (5, 1), (6, 1), (7, 1)], [(2, 1), (5, 1), (7, 1), (8, 1)], [(1, 1), (5, 2), (8, 1)], [(3, 1), (6, 1), (7, 1)], [(9, 1)], [(9, 1), (10, 1)], [(9, 1), (10, 1), (11, 1)], [(4, 1), (10, 1), (11, 1)]]\n"
     ]
    }
   ],
   "source": [
    "print(common_corpus) #prints word_id and the frequency, within each list the words are sorted aplhabetically & then encoded"
   ]
  },
  {
   "cell_type": "code",
   "execution_count": 7,
   "id": "02b2e6a5",
   "metadata": {},
   "outputs": [],
   "source": [
    "from gensim.models import LdaModel\n",
    "lda = LdaModel(common_corpus, num_topics=10)"
   ]
  },
  {
   "cell_type": "code",
   "execution_count": 8,
   "id": "bbfd3892",
   "metadata": {},
   "outputs": [
    {
     "name": "stdout",
     "output_type": "stream",
     "text": [
      "[(0, 1), (6, 1), (10, 1)]\n",
      "[(0, 1), (1, 1), (5, 1)]\n"
     ]
    },
    {
     "data": {
      "text/plain": [
       "(None, None)"
      ]
     },
     "execution_count": 8,
     "metadata": {},
     "output_type": "execute_result"
    }
   ],
   "source": [
    "other_texts = [\n",
    "    ['computer', 'time', 'graph'],\n",
    "    ['survey', 'response', 'eps'],\n",
    "    ['human', 'system', 'computer']\n",
    "]\n",
    "other_corpus = [common_dictionary.doc2bow(text) for text in other_texts]\n",
    "print(other_corpus[0], ), print(other_corpus[2])"
   ]
  },
  {
   "cell_type": "code",
   "execution_count": 9,
   "id": "876c36a4",
   "metadata": {},
   "outputs": [],
   "source": [
    "unseen_doc = other_corpus[0]\n",
    "vector = lda[unseen_doc]  # get topic probability distribution for a document"
   ]
  },
  {
   "cell_type": "code",
   "execution_count": 10,
   "id": "8e19baf3",
   "metadata": {},
   "outputs": [
    {
     "data": {
      "text/plain": [
       "[(0, 0.025000058),\n",
       " (1, 0.5249818),\n",
       " (2, 0.025000062),\n",
       " (3, 0.025000062),\n",
       " (4, 0.025009863),\n",
       " (5, 0.025008721),\n",
       " (6, 0.025008475),\n",
       " (7, 0.025000062),\n",
       " (8, 0.025000062),\n",
       " (9, 0.2749908)]"
      ]
     },
     "execution_count": 10,
     "metadata": {},
     "output_type": "execute_result"
    }
   ],
   "source": [
    "vector #Here the numbers correspnd to the topics"
   ]
  },
  {
   "cell_type": "code",
   "execution_count": 11,
   "id": "ef074754",
   "metadata": {},
   "outputs": [],
   "source": [
    "lda.update(other_corpus)"
   ]
  },
  {
   "cell_type": "code",
   "execution_count": 12,
   "id": "869f439f",
   "metadata": {},
   "outputs": [],
   "source": [
    "vector = lda[unseen_doc]"
   ]
  },
  {
   "cell_type": "code",
   "execution_count": 13,
   "id": "ddad65b8",
   "metadata": {},
   "outputs": [
    {
     "data": {
      "text/plain": [
       "[(0, 0.04549327), (5, 0.027164787)]"
      ]
     },
     "execution_count": 13,
     "metadata": {},
     "output_type": "execute_result"
    }
   ],
   "source": [
    "lda.get_term_topics(word_id=2)"
   ]
  },
  {
   "cell_type": "code",
   "execution_count": 14,
   "id": "e9533d3e",
   "metadata": {},
   "outputs": [
    {
     "data": {
      "text/plain": [
       "array([[0.01923259, 0.01923246, 0.11537796, 0.01924255, 0.01924222,\n",
       "        0.11539391, 0.0192322 , 0.11538   , 0.49996135, 0.01923716,\n",
       "        0.01923504, 0.01923256],\n",
       "       [0.07317638, 0.01219622, 0.0121959 , 0.31705397, 0.31705308,\n",
       "        0.07317476, 0.07317404, 0.07316791, 0.01221507, 0.01219904,\n",
       "        0.01219769, 0.01219586],\n",
       "       [0.08333218, 0.08332966, 0.08333268, 0.08332815, 0.08333118,\n",
       "        0.0833353 , 0.08333049, 0.08333336, 0.08332878, 0.08335013,\n",
       "        0.08333875, 0.08332936],\n",
       "       [0.08333126, 0.08333287, 0.08333357, 0.08332969, 0.08333286,\n",
       "        0.08333209, 0.08333017, 0.08333121, 0.08333219, 0.08334821,\n",
       "        0.08333516, 0.0833307 ],\n",
       "       [0.01174141, 0.1079501 , 0.01173986, 0.01173933, 0.01173927,\n",
       "        0.36385012, 0.01173915, 0.01174003, 0.07043037, 0.1877849 ,\n",
       "        0.12911813, 0.07042734],\n",
       "       [0.5488594 , 0.27209938, 0.07159013, 0.01193375, 0.01193414,\n",
       "        0.01195708, 0.01194423, 0.01193358, 0.01193358, 0.01193608,\n",
       "        0.01194525, 0.01193338],\n",
       "       [0.02129745, 0.02127826, 0.02127823, 0.12766273, 0.0212787 ,\n",
       "        0.02127877, 0.5531317 , 0.12765314, 0.02127875, 0.02128378,\n",
       "        0.0213    , 0.02127838],\n",
       "       [0.08333151, 0.08333143, 0.08333176, 0.08333086, 0.08333176,\n",
       "        0.08333482, 0.08332967, 0.08333182, 0.08333047, 0.08334587,\n",
       "        0.08333886, 0.08333119],\n",
       "       [0.08333392, 0.08332887, 0.08333366, 0.08332976, 0.08333157,\n",
       "        0.08333516, 0.08332916, 0.08333275, 0.08332942, 0.08334388,\n",
       "        0.08334301, 0.08332887],\n",
       "       [0.02129817, 0.0212786 , 0.02127946, 0.02127844, 0.12766258,\n",
       "        0.02127912, 0.02129757, 0.02127927, 0.02127855, 0.02128082,\n",
       "        0.5531334 , 0.12765402]], dtype=float32)"
      ]
     },
     "execution_count": 14,
     "metadata": {},
     "output_type": "execute_result"
    }
   ],
   "source": [
    "lda.get_topics()"
   ]
  },
  {
   "cell_type": "code",
   "execution_count": 21,
   "id": "5d13b1f3",
   "metadata": {},
   "outputs": [
    {
     "data": {
      "text/plain": [
       "dtype('float32')"
      ]
     },
     "execution_count": 21,
     "metadata": {},
     "output_type": "execute_result"
    }
   ],
   "source": [
    "lda.dtype"
   ]
  },
  {
   "cell_type": "code",
   "execution_count": 23,
   "id": "95482075",
   "metadata": {},
   "outputs": [
    {
     "data": {
      "text/plain": [
       "[(0,\n",
       "  '0.500*\"8\" + 0.115*\"5\" + 0.115*\"7\" + 0.115*\"2\" + 0.019*\"3\" + 0.019*\"4\" + 0.019*\"9\" + 0.019*\"10\" + 0.019*\"0\" + 0.019*\"11\"'),\n",
       " (1,\n",
       "  '0.317*\"3\" + 0.317*\"4\" + 0.073*\"0\" + 0.073*\"5\" + 0.073*\"6\" + 0.073*\"7\" + 0.012*\"8\" + 0.012*\"9\" + 0.012*\"10\" + 0.012*\"1\"'),\n",
       " (2,\n",
       "  '0.083*\"9\" + 0.083*\"10\" + 0.083*\"5\" + 0.083*\"7\" + 0.083*\"2\" + 0.083*\"0\" + 0.083*\"4\" + 0.083*\"6\" + 0.083*\"1\" + 0.083*\"11\"'),\n",
       " (3,\n",
       "  '0.083*\"9\" + 0.083*\"10\" + 0.083*\"2\" + 0.083*\"1\" + 0.083*\"4\" + 0.083*\"8\" + 0.083*\"5\" + 0.083*\"0\" + 0.083*\"7\" + 0.083*\"11\"'),\n",
       " (4,\n",
       "  '0.364*\"5\" + 0.188*\"9\" + 0.129*\"10\" + 0.108*\"1\" + 0.070*\"8\" + 0.070*\"11\" + 0.012*\"0\" + 0.012*\"7\" + 0.012*\"2\" + 0.012*\"3\"'),\n",
       " (5,\n",
       "  '0.549*\"0\" + 0.272*\"1\" + 0.072*\"2\" + 0.012*\"5\" + 0.012*\"10\" + 0.012*\"6\" + 0.012*\"9\" + 0.012*\"4\" + 0.012*\"3\" + 0.012*\"8\"'),\n",
       " (6,\n",
       "  '0.553*\"6\" + 0.128*\"3\" + 0.128*\"7\" + 0.021*\"10\" + 0.021*\"0\" + 0.021*\"9\" + 0.021*\"5\" + 0.021*\"8\" + 0.021*\"4\" + 0.021*\"11\"'),\n",
       " (7,\n",
       "  '0.083*\"9\" + 0.083*\"10\" + 0.083*\"5\" + 0.083*\"7\" + 0.083*\"4\" + 0.083*\"2\" + 0.083*\"0\" + 0.083*\"1\" + 0.083*\"11\" + 0.083*\"3\"'),\n",
       " (8,\n",
       "  '0.083*\"9\" + 0.083*\"10\" + 0.083*\"5\" + 0.083*\"0\" + 0.083*\"2\" + 0.083*\"7\" + 0.083*\"4\" + 0.083*\"3\" + 0.083*\"8\" + 0.083*\"6\"'),\n",
       " (9,\n",
       "  '0.553*\"10\" + 0.128*\"4\" + 0.128*\"11\" + 0.021*\"0\" + 0.021*\"6\" + 0.021*\"9\" + 0.021*\"2\" + 0.021*\"7\" + 0.021*\"5\" + 0.021*\"1\"')]"
      ]
     },
     "execution_count": 23,
     "metadata": {},
     "output_type": "execute_result"
    }
   ],
   "source": [
    "lda.show_topics()"
   ]
  },
  {
   "cell_type": "code",
   "execution_count": null,
   "id": "ef8bb162",
   "metadata": {},
   "outputs": [],
   "source": [
    "lda."
   ]
  }
 ],
 "metadata": {
  "kernelspec": {
   "display_name": "Python [conda env:tensorflow] *",
   "language": "python",
   "name": "conda-env-tensorflow-py"
  },
  "language_info": {
   "codemirror_mode": {
    "name": "ipython",
    "version": 3
   },
   "file_extension": ".py",
   "mimetype": "text/x-python",
   "name": "python",
   "nbconvert_exporter": "python",
   "pygments_lexer": "ipython3",
   "version": "3.9.10"
  }
 },
 "nbformat": 4,
 "nbformat_minor": 5
}
